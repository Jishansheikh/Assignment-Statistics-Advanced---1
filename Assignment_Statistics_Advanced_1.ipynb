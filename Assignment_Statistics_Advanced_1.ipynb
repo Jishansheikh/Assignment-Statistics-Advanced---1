{
  "nbformat": 4,
  "nbformat_minor": 0,
  "metadata": {
    "colab": {
      "provenance": []
    },
    "kernelspec": {
      "name": "python3",
      "display_name": "Python 3"
    },
    "language_info": {
      "name": "python"
    }
  },
  "cells": [
    {
      "cell_type": "markdown",
      "source": [
        "#Statistics Advanced - 1"
      ],
      "metadata": {
        "id": "D_8kPsM_A0-Q"
      }
    },
    {
      "cell_type": "markdown",
      "source": [
        "### **1. What is a random variable in probability theory?**\n",
        "\n",
        "**Answer**:\n",
        "\n",
        "In probability theory, a random variable is a variable whose possible values are numerical outcomes of a random phenomenon. It is a function that maps the outcomes of a random experiment to real numbers. Random variables are typically denoted by capital letters, such as **X** or **Y**."
      ],
      "metadata": {
        "id": "-ueoWN4WA6Di"
      }
    },
    {
      "cell_type": "markdown",
      "source": [
        "### **2. What are the types of random variables?**\n",
        "\n",
        "**Answer**:\n",
        "\n",
        "There are two main types of random variables:\n",
        "\n",
        "* **Discrete Random Variables**: These are variables that can take on a finite or countably infinite number of values. The values are typically integers and represent counts or categories. Examples include the number of heads when flipping a coin multiple times, or the number of defective items in a sample.\n",
        "\n",
        "* **Continuous Random Variables**: These are variables that can take on any value within a given range or interval. Their values are typically measurements. Examples include height, weight, temperature, or the time it takes for an event to occur."
      ],
      "metadata": {
        "id": "aNNsTEnFB32i"
      }
    },
    {
      "cell_type": "markdown",
      "source": [
        "### **3. Explain the difference between discrete and continuous distributions.**\n",
        "\n",
        "**Answer**:\n",
        "\n",
        "The key differences between discrete and continuous distributions lie in the nature of the random variables they describe and how probabilities are assigned:\n",
        "\n",
        "* **Discrete Distributions**:\n",
        "\n",
        "    * Deal with discrete random variables, which can only take specific, distinct values (often integers).\n",
        "\n",
        "    * Probabilities are assigned to individual values. The sum of probabilities for all possible values must equal 1.\n",
        "\n",
        "    * The probability mass function (PMF) is used to describe the probability distribution.\n",
        "\n",
        "    * Examples include Bernoulli, Binomial, Poisson, and Geometric distributions.\n",
        "\n",
        "* **Continuous Distributions**:\n",
        "\n",
        "    * Deal with continuous random variables, which can take any value within a given range.\n",
        "\n",
        "    * The probability of a continuous random variable taking on any single specific value is zero.\n",
        "\n",
        "    * Probabilities are defined over intervals, and the area under the probability density function (PDF) curve represents the probability. The total area under the PDF curve is 1.\n",
        "\n",
        "    * Examples include Normal, Uniform, Exponential, and Chi-squared distributions."
      ],
      "metadata": {
        "id": "aYE98VWoB5q8"
      }
    },
    {
      "cell_type": "markdown",
      "source": [
        "### **4. What is a binomial distribution, and how is it used in probability?**\n",
        "\n",
        "**Answer**:\n",
        "\n",
        "A binomial distribution is a discrete probability distribution that describes the number of successes in a fixed number of independent Bernoulli trials (experiments with only two possible outcomes: success or failure).\n",
        "\n",
        "It is used in probability to model situations where:\n",
        "\n",
        "* There is a fixed number of trials, denoted by n.\n",
        "\n",
        "* Each trial is independent of the others.\n",
        "\n",
        "* There are only two possible outcomes for each trial: \"success\" or \"failure\".\n",
        "\n",
        "* The probability of success, denoted by p, is constant for every trial.\n",
        "\n",
        "The probability mass function (PMF) for a binomial distribution is given by:\n",
        "\n",
        "**P(X=k)=**\n",
        "\n",
        "**binomnkpk (1−p)**n−k\n",
        "\n",
        "where:\n",
        "\n",
        "* P(X=k) is the probability of getting exactly k successes.\n",
        "\n",
        "* binomnk is the binomial coefficient, calculated as\n",
        "fracnk(n−k).\n",
        "\n",
        "* n is the number of trials.\n",
        "\n",
        "* k is the number of successes.\n",
        "\n",
        "* p is the probability of success on a single trial.\n",
        "\n",
        "* (1−p) is the probability of failure on a single trial.\n",
        "\n",
        "Examples of its use include calculating the probability of getting a certain number of heads in a series of coin flips, or the number of defective items in a batch."
      ],
      "metadata": {
        "id": "HSnwkQHrCEql"
      }
    },
    {
      "cell_type": "markdown",
      "source": [
        "### **5. What is the standard normal distribution, and why is it important?**\n",
        "\n",
        "**Answer**:\n",
        "\n",
        "The standard normal distribution is a special case of the normal (or Gaussian) distribution. It is a normal distribution with a mean (\n",
        "\n",
        "mu) of 0 and a standard deviation (\n",
        "sigma) of 1.  It is often denoted by\n",
        "\n",
        "Z\n",
        "\n",
        "simN(0,1).\n",
        "\n",
        "It is important for several reasons:\n",
        "\n",
        "* **Standardization**: Any normal distribution can be transformed into a standard normal distribution using the Z-score formula: Z=\n",
        "fracX−musigma. This process, called standardization, allows us to compare values from different normal distributions.\n",
        "\n",
        "* **Probability Calculation**: Standard normal tables (Z-tables) or statistical software can be used to easily find the probability of a random variable falling within a certain range for any normal distribution once it's converted to the standard normal form. This simplifies probability calculations.\n",
        "\n",
        "* **Foundation for Inferential Statistics**: Many statistical hypothesis tests and confidence interval constructions rely on the properties of the standard normal distribution, especially due to the Central Limit Theorem.\n",
        "\n",
        "* **Simplicity and Universality**: Its fixed mean and standard deviation make it a universal reference point for understanding the spread and likelihood of data points in a normal distribution."
      ],
      "metadata": {
        "id": "Pm9QD03YCK2Y"
      }
    },
    {
      "cell_type": "markdown",
      "source": [
        "### **6. What is the Central Limit Theorem (CLT), and why is it critical in statistics?**\n",
        "\n",
        "**Answer**:\n",
        "\n",
        "The Central Limit Theorem (CLT) is a fundamental theorem in probability theory and statistics. It states that, given a sufficiently large sample size from a population with a finite mean (\n",
        "\n",
        "mu) and finite variance (\n",
        "\n",
        "sigma2), the sampling distribution of the sample mean will be approximately normally distributed, regardless of the shape of the original population distribution. As the sample size increases, the approximation becomes better. Generally, a sample size of\n",
        "\n",
        "n\n",
        "\n",
        "ge30 is considered sufficient for the CLT to apply\n",
        "\n",
        "\n",
        "The mean of this sampling distribution of the sample means will be equal to the population mean\n",
        "\n",
        "(\n",
        "\n",
        "mu), and its standard deviation (known as the standard error) will be\n",
        "fracsigmasqrtn.\n",
        "\n",
        "It is critical in statistics for several reasons:\n",
        "\n",
        "* **Foundation for Inferential Statistics**: The CLT is the cornerstone of many inferential statistical techniques, such as hypothesis testing and constructing confidence intervals. It allows us to make inferences about a population mean based on a sample mean, even if the population distribution is not normal.\n",
        "\n",
        "* **Simplifies Complex Problems**: Without the CLT, dealing with non-normally distributed populations would require more complex non-parametric methods. The CLT allows us to use well-understood normal distribution properties.\n",
        "\n",
        "* **Justifies the Use of Normal Distribution**: It explains why the normal distribution appears so frequently in real-world data, especially when dealing with averages or sums of many independent random variables.\n",
        "\n",
        "* **Quality Control and Process Monitoring**: In various fields, the CLT is used to monitor processes and ensure quality by analyzing sample means."
      ],
      "metadata": {
        "id": "SoCqBQWyCRpT"
      }
    },
    {
      "cell_type": "markdown",
      "source": [
        "### **7. What is the significance of confidence intervals in statistical analysis?**\n",
        "\n",
        "**Answer**:\n",
        "\n",
        "Confidence intervals are crucial in statistical analysis because they provide a range of values within which the true population parameter (e.g., mean, proportion, variance) is likely to lie, with a certain level of confidence.\n",
        "\n",
        "Their significance stems from several points:\n",
        "\n",
        "* **Quantifying Uncertainty**: Unlike a point estimate (a single value), a confidence interval acknowledges and quantifies the uncertainty associated with estimating a population parameter from a sample. It provides a measure of how precise our estimate is.\n",
        "\n",
        "* **Decision Making**: Confidence intervals aid in making informed decisions. If a confidence interval for a treatment effect, for example, does not include zero, it suggests that the treatment has a statistically significant effect.\n",
        "\n",
        "* **Hypothesis Testing Alternative**: Confidence intervals can often be used as an alternative to formal hypothesis testing. If the hypothesized value for a parameter falls outside the confidence interval, we can reject the null hypothesis.\n",
        "\n",
        "* **Communicating Results**: They provide a more complete and informative picture than just a point estimate. Reporting a confidence interval helps communicate the reliability and precision of the findings to a broader audience.\n",
        "\n",
        "* **Replicability**: A wider confidence interval suggests more variability in the sample, indicating that future samples might yield different results, while a narrower interval suggests more consistent results.\n",
        "\n",
        "For example, a 95% confidence interval for a mean means that if we were to take many samples and construct a confidence interval for each, approximately 95% of these intervals would contain the true population mean."
      ],
      "metadata": {
        "id": "VxPeGAdVCYnK"
      }
    },
    {
      "cell_type": "markdown",
      "source": [
        "### **8. What is the concept of expected value in a probability distribution?**\n",
        "\n",
        "**Answer**:\n",
        "\n",
        "The expected value (or expectation) of a random variable in a probability distribution is the weighted average of all possible values that the random variable can take, where the weights are the probabilities of each value occurring. It represents the long-run average or the theoretical mean of the random variable if the experiment were to be repeated an infinite number of times.\n",
        "\n",
        "* **For a discrete random variable X**: The expected value, denoted as E(X), is calculated as the sum of the products of each possible value and its corresponding probability:\n",
        "**E(X)**\n",
        "\n",
        "**sum_i=1**n **x_iP(X=x_i)**\n",
        "\n",
        "where x_i are the possible values of X and P(X=x_i) are their respective probabilities.\n",
        "\n",
        "* **For a continuous random variable X**: The expected value, denoted as E(X), is calculated by integrating the product of each possible value and its probability density function (PDF) over the entire range of the variable:\n",
        "**E(X)=**\n",
        "                  \n",
        "**int_−infty** infty **xf(x)dx**\n",
        "\n",
        "\n",
        "where f(x) is the probability density function of X.\n",
        "\n",
        "The expected value is a measure of the central tendency of a probability distribution. It doesn't necessarily have to be a value that the random variable can actually take. For instance, the expected number of children in a family could be 2.3, even though no family can have 2.3 children. It's a theoretical average."
      ],
      "metadata": {
        "id": "0HBTWR6zCdV0"
      }
    },
    {
      "cell_type": "code",
      "source": [
        "# 9. Write a Python program to generate 1000 random numbers from a normal distribution with mean = 50 and standard deviation = 5. Compute its mean and standard deviation using NumPy, and draw a histogram to visualize the distribution.\n",
        "\n",
        "import numpy as np\n",
        "import matplotlib.pyplot as plt\n",
        "\n",
        "# Generate 1000 random numbers from a normal distribution\n",
        "mean = 50\n",
        "std_dev = 5\n",
        "num_samples = 1000\n",
        "random_numbers = np.random.normal(mean, std_dev, num_samples)\n",
        "\n",
        "# Compute mean and standard deviation using NumPy\n",
        "computed_mean = np.mean(random_numbers)\n",
        "computed_std_dev = np.std(random_numbers)\n",
        "\n",
        "print(f\"Generated {num_samples} random numbers from a normal distribution:\")\n",
        "print(f\"  Specified Mean: {mean}\")\n",
        "print(f\"  Specified Standard Deviation: {std_dev}\")\n",
        "print(f\"  Computed Mean: {computed_mean:.2f}\")\n",
        "print(f\"  Computed Standard Deviation: {computed_std_dev:.2f}\")\n",
        "\n",
        "# Draw a histogram to visualize the distribution\n",
        "plt.hist(random_numbers, bins=30, edgecolor='black', alpha=0.7)\n",
        "plt.title('Histogram of Random Numbers from Normal Distribution')\n",
        "plt.xlabel('Value')\n",
        "plt.ylabel('Frequency')\n",
        "plt.grid(axis='y', alpha=0.75)\n",
        "plt.show()"
      ],
      "metadata": {
        "colab": {
          "base_uri": "https://localhost:8080/",
          "height": 559
        },
        "id": "Gk7ktx38CrZ9",
        "outputId": "c43de84d-788d-425f-c5f3-7e8a8485c322"
      },
      "execution_count": 2,
      "outputs": [
        {
          "output_type": "stream",
          "name": "stdout",
          "text": [
            "Generated 1000 random numbers from a normal distribution:\n",
            "  Specified Mean: 50\n",
            "  Specified Standard Deviation: 5\n",
            "  Computed Mean: 49.98\n",
            "  Computed Standard Deviation: 4.95\n"
          ]
        },
        {
          "output_type": "display_data",
          "data": {
            "text/plain": [
              "<Figure size 640x480 with 1 Axes>"
            ],
            "image/png": "[encoded data removed]"
          },
          "metadata": {}
        }
      ]
    },
    {
      "cell_type": "markdown",
      "source": [
        "### **10. You are working as a data analyst for a retail company. The company has collected daily sales data for 2 years and wants you to identify the overall sales trend.**\n",
        "\n",
        "  **daily_sales = [220, 245, 210, 265, 230, 250, 260, 275, 240, 255, 235, 260, 245, 250, 225, 270, 265, 255, 250, 260]**\n",
        "\n",
        "* **Explain how you would apply the Central Limit Theorem to estimate the average sales with a 95% confidence interval.**\n",
        "\n",
        "\n",
        "* **Write the Python code to compute the mean sales and its confidence interval.**\n",
        "\n",
        "**Answer**:\n",
        "\n",
        "* **Explanation of applying the Central Limit Theorem (CLT) for average sales estimation:**\n",
        "\n",
        "The Central Limit Theorem (CLT) is crucial here even though we only have a sample\n",
        "\n",
        "`daily_sales` list provided, representing a hypothetical portion of the full \"2 years of daily sales data\" mentioned in the problem description. Assuming that the\n",
        "\n",
        "`daily_sales` provided is a sample of the full 2 years of data, or we can treat this sample as representative for demonstrating the concept.\n",
        "\n",
        "**1. Population vs. Sample**: The \"2 years of daily sales data\" represents our population of interest. The provided\n",
        "\n",
        "`daily_sales` list is a sample from this population.\n",
        "\n",
        "\n",
        "**2. CLT Application**: The CLT states that, regardless of the underlying distribution of the daily sales data (which might not be normal), the distribution of sample means taken from this population will tend towards a normal distribution as the sample size increases.  For calculating the confidence interval for the population mean, the CLT allows us to use the normal distribution (or t-distribution for smaller sample sizes and unknown population standard deviation).\n",
        "\n",
        "**3. Estimating Population Mean**: Our goal is to estimate the true average daily sales for the company (the population mean,\n",
        "\n",
        "mu). We will use the sample mean (\n",
        "\n",
        "barx) calculated from the `daily_sales` data as our best point estimate for\n",
        "mu.\n",
        "\n",
        "\n",
        "**4. Confidence Interval Construction**: A 95% confidence interval provides a range of values within which we are 95% confident the true population mean lies.  To construct this interval, we need:\n",
        "\n",
        "* The sample mean (\n",
        "\n",
        "  barx).\n",
        "\n",
        "* The standard error of the mean, which is\n",
        "\n",
        "  fracssqrtn, where s is the sample standard deviation and n is the sample size.\n",
        "\n",
        "* A critical value (Z-score for large samples or t-score for smaller samples with unknown population standard deviation) corresponding to the desired confidence level (95%). For a 95% confidence interval, the critical Z-value is approximately 1.96. If the sample size is small **( $ n \\ < 30 $)**, it's more appropriate to use the t-distribution, which accounts for the additional uncertainty. Given the provided `daily_sales` list has 20 entries, it's a smaller sample, so the t-distribution is more appropriate.\n",
        "\n",
        "The formula for the confidence interval for the mean is:\n",
        "\n",
        "**textConfidenceInterval=**\n",
        "\n",
        "**barx**\n",
        "\n",
        "**pm**\n",
        "\n",
        "**textt−criticalvalue**\n",
        "\n",
        "**times**\n",
        "\n",
        "**fracssqrtn**\n",
        "\n",
        "\n",
        "**Python code to compute the mean sales and its confidence interval**:"
      ],
      "metadata": {
        "id": "bYfsZ8fcEkIg"
      }
    },
    {
      "cell_type": "code",
      "source": [
        "import numpy as np\n",
        "from scipy import stats\n",
        "\n",
        "# Provided daily sales data\n",
        "daily_sales = [220, 245, 210, 265, 230, 250, 260, 275, 240, 255,\n",
        "               235, 260, 245, 250, 225, 270, 265, 255, 250, 260]\n",
        "\n",
        "# Convert the list to a NumPy array for easier calculations\n",
        "sales_array = np.array(daily_sales)\n",
        "\n",
        "# Compute the mean sales\n",
        "mean_sales = np.mean(sales_array)\n",
        "\n",
        "# Compute the standard deviation of the sales data (sample standard deviation)\n",
        "std_dev_sales = np.std(sales_array, ddof=1) # ddof=1 for sample standard deviation\n",
        "\n",
        "# Get the sample size\n",
        "n = len(sales_array)\n",
        "\n",
        "# Define the confidence level\n",
        "confidence_level = 0.95\n",
        "\n",
        "# Calculate the standard error of the mean\n",
        "standard_error = std_dev_sales / np.sqrt(n)\n",
        "\n",
        "# Calculate the t-critical value for a 95% confidence interval\n",
        "# Degrees of freedom (df) = n - 1\n",
        "df = n - 1\n",
        "t_critical = stats.t.ppf((1 + confidence_level) / 2, df) # For a two-tailed interval\n",
        "\n",
        "# Calculate the margin of error\n",
        "margin_of_error = t_critical * standard_error\n",
        "\n",
        "# Calculate the confidence interval\n",
        "confidence_interval_lower = mean_sales - margin_of_error\n",
        "confidence_interval_upper = mean_sales + margin_of_error\n",
        "\n",
        "print(f\"Daily Sales Data: {daily_sales}\")\n",
        "print(f\"\\nComputed Mean Sales: {mean_sales:.2f}\")\n",
        "print(f\"Sample Standard Deviation: {std_dev_sales:.2f}\")\n",
        "print(f\"Sample Size (n): {n}\")\n",
        "print(f\"Degrees of Freedom (df): {df}\")\n",
        "print(f\"t-critical value for {confidence_level*100}% CI: {t_critical:.3f}\")\n",
        "print(f\"Standard Error of the Mean: {standard_error:.2f}\")\n",
        "print(f\"Margin of Error: {margin_of_error:.2f}\")\n",
        "print(f\"\\n95% Confidence Interval for Average Sales: \"\n",
        "      f\"({confidence_interval_lower:.2f}, {confidence_interval_upper:.2f})\")"
      ],
      "metadata": {
        "colab": {
          "base_uri": "https://localhost:8080/"
        },
        "id": "J3agRE42Els6",
        "outputId": "85d308c9-3043-4b9b-e037-14d9fe9f3669"
      },
      "execution_count": 5,
      "outputs": [
        {
          "output_type": "stream",
          "name": "stdout",
          "text": [
            "Daily Sales Data: [220, 245, 210, 265, 230, 250, 260, 275, 240, 255, 235, 260, 245, 250, 225, 270, 265, 255, 250, 260]\n",
            "\n",
            "Computed Mean Sales: 248.25\n",
            "Sample Standard Deviation: 17.27\n",
            "Sample Size (n): 20\n",
            "Degrees of Freedom (df): 19\n",
            "t-critical value for 95.0% CI: 2.093\n",
            "Standard Error of the Mean: 3.86\n",
            "Margin of Error: 8.08\n",
            "\n",
            "95% Confidence Interval for Average Sales: (240.17, 256.33)\n"
          ]
        }
      ]
    },
    {
      "cell_type": "markdown",
      "source": [],
      "metadata": {
        "id": "qSUmONe4CQqC"
      }
    }
  ]
}